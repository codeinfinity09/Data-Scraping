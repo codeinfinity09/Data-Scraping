{
 "cells": [
  {
   "cell_type": "markdown",
   "id": "681eb09b",
   "metadata": {},
   "source": [
    "### installing libraries"
   ]
  },
  {
   "cell_type": "code",
   "execution_count": 1,
   "id": "459d91c3",
   "metadata": {},
   "outputs": [],
   "source": [
    "import time"
   ]
  },
  {
   "cell_type": "code",
   "execution_count": 2,
   "id": "1135b494",
   "metadata": {},
   "outputs": [
    {
     "name": "stdout",
     "output_type": "stream",
     "text": [
      "Requirement already satisfied: bs4 in /Library/Frameworks/Python.framework/Versions/3.10/lib/python3.10/site-packages (0.0.1)\n",
      "Requirement already satisfied: beautifulsoup4 in /Library/Frameworks/Python.framework/Versions/3.10/lib/python3.10/site-packages (from bs4) (4.12.2)\n",
      "Requirement already satisfied: soupsieve>1.2 in /Library/Frameworks/Python.framework/Versions/3.10/lib/python3.10/site-packages (from beautifulsoup4->bs4) (2.4.1)\n",
      "\u001b[33mWARNING: You are using pip version 22.0.3; however, version 23.2.1 is available.\n",
      "You should consider upgrading via the '/Library/Frameworks/Python.framework/Versions/3.10/bin/python3 -m pip install --upgrade pip' command.\u001b[0m\u001b[33m\n",
      "\u001b[0mRequirement already satisfied: urllib3 in /Library/Frameworks/Python.framework/Versions/3.10/lib/python3.10/site-packages (2.0.4)\n",
      "\u001b[33mWARNING: You are using pip version 22.0.3; however, version 23.2.1 is available.\n",
      "You should consider upgrading via the '/Library/Frameworks/Python.framework/Versions/3.10/bin/python3 -m pip install --upgrade pip' command.\u001b[0m\u001b[33m\n",
      "\u001b[0m"
     ]
    }
   ],
   "source": [
    "!pip install bs4\n",
    "!pip install urllib3 \n",
    "from urllib.request import urlopen"
   ]
  },
  {
   "cell_type": "code",
   "execution_count": 3,
   "id": "1d614874",
   "metadata": {},
   "outputs": [],
   "source": [
    "data='https://timesofindia.indiatimes.com/news'"
   ]
  },
  {
   "cell_type": "code",
   "execution_count": 4,
   "id": "36cd6ef4",
   "metadata": {},
   "outputs": [
    {
     "name": "stdout",
     "output_type": "stream",
     "text": [
      "Requirement already satisfied: certifi in /Library/Frameworks/Python.framework/Versions/3.10/lib/python3.10/site-packages (2023.7.22)\n",
      "\u001b[33mWARNING: You are using pip version 22.0.3; however, version 23.2.1 is available.\n",
      "You should consider upgrading via the '/Library/Frameworks/Python.framework/Versions/3.10/bin/python3 -m pip install --upgrade pip' command.\u001b[0m\u001b[33m\n",
      "\u001b[0m"
     ]
    }
   ],
   "source": [
    "!pip install certifi\n",
    "import certifi\n",
    "import ssl\n",
    "import urllib\n",
    "_create_unverified_https_context = ssl._create_unverified_context\n",
    "ssl._create_default_https_context = _create_unverified_https_context"
   ]
  },
  {
   "cell_type": "markdown",
   "id": "90d81186",
   "metadata": {},
   "source": [
    "### establishing connection and reading data"
   ]
  },
  {
   "cell_type": "code",
   "execution_count": 5,
   "id": "ff869dd6",
   "metadata": {},
   "outputs": [],
   "source": [
    "data=urlopen(data)      "
   ]
  },
  {
   "cell_type": "code",
   "execution_count": 6,
   "id": "86988813",
   "metadata": {},
   "outputs": [],
   "source": [
    "data_html=data.read()"
   ]
  },
  {
   "cell_type": "code",
   "execution_count": null,
   "id": "4f6010e7",
   "metadata": {},
   "outputs": [
    {
     "name": "stdout",
     "output_type": "stream",
     "text": [
      "Chandrayaan-3: Pragyan rover finds sulphur on Moon's south pole, search on for hydrogen\n",
      "\n",
      "\n",
      "India lodges strong protest over China's new map featuring Arunachal\n",
      "\n",
      "\n",
      "The scientist who first got India dreaming of the moon\n",
      "\n",
      "\n",
      "2 IndiGo planes suffer midair engine glitch, both land safely\n",
      "\n",
      "\n",
      "Good news for Indians waiting to fly to US\n",
      "\n",
      "\n",
      "'Raksha Bandhan gift': Centre cuts LPG price by Rs 200\n",
      "\n",
      "\n",
      "How Gukesh won the chess crown Anand held for 36 yrs\n",
      "\n",
      "\n",
      "Virat Kohli reveals his love for this format\n",
      "\n",
      "\n",
      "These 20 universities have been declared fake: Delhi, UP lead the charts\n",
      "\n",
      "\n",
      "BSP expels Muslim leader Imran Masood for anti-party activities\n",
      "\n",
      "\n",
      "Google will now tell right time to book a flight\n",
      "\n",
      "\n",
      "'Absurd claims': Jaishankar slams China's new 'map'\n",
      "\n",
      "\n",
      "Jio Haptik WhatsApp chatbot launched: What it means for users\n",
      "\n",
      "\n",
      "Devara: Jr NTR undertakes training for an underwater action sequence\n",
      "\n",
      "\n",
      "G20: HIT squads in Delhi hotels to deal with hostage crisis\n",
      "\n",
      "\n",
      "'I could have told you 18-19 months ago...', asserts Dravid\n",
      "\n",
      "\n",
      "'Elections could be held anytime': Nitish Kumar\n",
      "\n",
      "\n",
      "Allu Arjun teases announcement: Something big coming tomorrow!\n",
      "\n",
      "\n",
      "Watch: Farmers protest at Mumbai's mantralay\n",
      "\n",
      "\n",
      "From closing Shark Tank ; a glimpse into Namita Thapar's life in recent times\n",
      "\n",
      "\n"
     ]
    }
   ],
   "source": [
    "from bs4 import BeautifulSoup as soup\n",
    "while True:\n",
    "    try:\n",
    "        Soup=soup(data_html,'html.parser')\n",
    "        news_section=Soup.find_all(\"div\",{'class':'main-content'})\n",
    "        for section in news_section:\n",
    "            headlines=section.find_all('span',{'class':'w_tle'})\n",
    "            for headline in headlines:\n",
    "                print(headline.text)\n",
    "                print('\\n')\n",
    "        time.sleep(300)\n",
    "    except:\n",
    "        print(\"an error occured\")\n",
    "        time.sleep(60)"
   ]
  },
  {
   "cell_type": "code",
   "execution_count": null,
   "id": "8e9251c4",
   "metadata": {},
   "outputs": [],
   "source": []
  }
 ],
 "metadata": {
  "kernelspec": {
   "display_name": "Python 3 (ipykernel)",
   "language": "python",
   "name": "python3"
  },
  "language_info": {
   "codemirror_mode": {
    "name": "ipython",
    "version": 3
   },
   "file_extension": ".py",
   "mimetype": "text/x-python",
   "name": "python",
   "nbconvert_exporter": "python",
   "pygments_lexer": "ipython3",
   "version": "3.10.2"
  }
 },
 "nbformat": 4,
 "nbformat_minor": 5
}
